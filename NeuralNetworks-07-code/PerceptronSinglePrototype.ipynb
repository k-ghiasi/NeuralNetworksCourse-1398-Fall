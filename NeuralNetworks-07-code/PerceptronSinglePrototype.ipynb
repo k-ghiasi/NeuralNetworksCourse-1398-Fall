{
 "cells": [
  {
   "cell_type": "markdown",
   "metadata": {},
   "source": [
    "## <font color='green'> <div align=\"center\">In the name of God </div></font>"
   ]
  },
  {
   "cell_type": "markdown",
   "metadata": {},
   "source": [
    "### <font color='red'> Author: Sayed Kamaledin Ghiasi-Shrirazi</font> <a href=\"http://profsite.um.ac.ir/~k.ghiasi\">(http://profsite.um.ac.ir/~k.ghiasi)</a> "
   ]
  },
  {
   "cell_type": "markdown",
   "metadata": {},
   "source": [
    "### Perceptron"
   ]
  },
  {
   "cell_type": "code",
   "execution_count": 1,
   "metadata": {},
   "outputs": [],
   "source": [
    "import numpy as np\n",
    "import matplotlib as mpl\n",
    "import matplotlib.pyplot as plt\n",
    "import scipy.io as sio\n",
    "from tqdm import tqdm\n",
    "import matplotlib.animation as animation"
   ]
  },
  {
   "cell_type": "code",
   "execution_count": 2,
   "metadata": {},
   "outputs": [],
   "source": [
    "%matplotlib inline\n",
    "mpl.rcParams['figure.dpi']= 150"
   ]
  },
  {
   "cell_type": "code",
   "execution_count": 3,
   "metadata": {},
   "outputs": [],
   "source": [
    "MnistTrainX = sio.loadmat ('../../datasets/mnist/MnistTrainX')['MnistTrainX'] / 255;\n",
    "MnistTrainY = sio.loadmat ('../../datasets/mnist/MnistTrainY')['MnistTrainY'];\n",
    "MnistTestX  = sio.loadmat ('../../datasets/mnist/MnistTestX')['MnistTestX'] / 255;\n",
    "MnistTestY  = sio.loadmat ('../../datasets/mnist/MnistTestY')['MnistTestY'];"
   ]
  },
  {
   "cell_type": "code",
   "execution_count": 4,
   "metadata": {},
   "outputs": [],
   "source": [
    "XTrain = MnistTrainX\n",
    "yTrain = MnistTrainY.squeeze()"
   ]
  },
  {
   "cell_type": "code",
   "execution_count": 5,
   "metadata": {},
   "outputs": [
    {
     "name": "stderr",
     "output_type": "stream",
     "text": [
      "100%|██████████████████████████████████████████████████████████████████████████████████| 20/20 [00:44<00:00,  3.18s/it]\n"
     ]
    },
    {
     "data": {
      "image/png": "[encoded data removed]",
      "text/plain": [
       "<Figure size 900x600 with 1 Axes>"
      ]
     },
     "metadata": {
      "needs_background": "light"
     },
     "output_type": "display_data"
    }
   ],
   "source": [
    "K = 1\n",
    "C = 10\n",
    "maxEpoch = 20\n",
    "(N, dim) = XTrain.shape\n",
    "W = np.random.rand(K*C, dim)\n",
    "b = np.zeros ([K*C])\n",
    "\n",
    "fig = Plt.figure()\n",
    "metadata = dict(title='PerceptronSinglePrototype', artist='Matplotlib',\n",
    "                comment='Movie support!')\n",
    "pillowWriter = animation.writers['pillow']\n",
    "moviewriter = pillowWriter(fps=4, metadata=metadata)\n",
    "moviewriter.setup(fig=fig, outfile='PerceptronSinglePrototype.gif', dpi=150)\n",
    "\n",
    "for i in tqdm (range(maxEpoch)):\n",
    "    for j in range (N):\n",
    "        x = XTrain[j,:]\n",
    "        t = yTrain[j]\n",
    "        z = (W @ x) + b      \n",
    "        \n",
    "        r = np.argmax (z)\n",
    "        y = r // K\n",
    "        if (y != t):\n",
    "            s = t*K + np.argmax(z[t*K:(t+1)*K])            \n",
    "            W[r,:] -= x\n",
    "            W[s,:] += x\n",
    "            b[r] -= 1\n",
    "            b[s] += 1\n",
    "        if (j % 10000==9999):\n",
    "            wholeImage = np.zeros ([K * 29, C * 29, 3])\n",
    "            for u in range (C):\n",
    "                for v in range (K):\n",
    "                    img = np.reshape(W[u*K+v,:], [28,28])\n",
    "                    img = img / np.max(abs(img))\n",
    "                    posImage = np.maximum(0 , img)\n",
    "                    negImage = np.maximum(0 , -img)\n",
    "                    wholeImage[v * 29:(v+1)* 29 -1, u * 29:(u+1) * 29-1, 0] = posImage\n",
    "                    wholeImage[v * 29:(v+1)* 29 -1, u * 29:(u+1) * 29-1, 1] = negImage\n",
    "            plt.imshow (wholeImage)\n",
    "            plt.axis('off')\n",
    "            moviewriter.grab_frame()\n",
    "moviewriter.finish()"
   ]
  },
  {
   "cell_type": "code",
   "execution_count": 6,
   "metadata": {},
   "outputs": [
    {
     "name": "stdout",
     "output_type": "stream",
     "text": [
      "Accuracy on test data = 85.76\\%\n"
     ]
    }
   ],
   "source": [
    "XTest = MnistTestX\n",
    "yTest = MnistTestY\n",
    "\n",
    "score = 0.0\n",
    "for j in range (XTest.shape[0]):\n",
    "    x = XTest[j,:]\n",
    "    t = yTest[j]\n",
    "    value = W @ x + b\n",
    "    max_idx = np.argmax(value)\n",
    "    y = max_idx // K\n",
    "    if (y == t):\n",
    "        score += 1\n",
    "print ('Accuracy on test data = {0}\\%'.format (score/XTest.shape[0] * 100))"
   ]
  },
  {
   "cell_type": "code",
   "execution_count": null,
   "metadata": {},
   "outputs": [],
   "source": []
  }
 ],
 "metadata": {
  "kernelspec": {
   "display_name": "Python 3",
   "language": "python",
   "name": "python3"
  },
  "language_info": {
   "codemirror_mode": {
    "name": "ipython",
    "version": 3
   },
   "file_extension": ".py",
   "mimetype": "text/x-python",
   "name": "python",
   "nbconvert_exporter": "python",
   "pygments_lexer": "ipython3",
   "version": "3.6.8"
  }
 },
 "nbformat": 4,
 "nbformat_minor": 2
}
