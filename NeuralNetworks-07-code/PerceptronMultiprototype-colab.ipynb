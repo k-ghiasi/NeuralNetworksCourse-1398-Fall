{
 "cells": [
  {
   "cell_type": "markdown",
   "metadata": {
    "colab_type": "text",
    "id": "TKfYE8YpZoxq"
   },
   "source": [
    "## <font color='green'> <div align=\"center\">In the name of God </div></font>"
   ]
  },
  {
   "cell_type": "markdown",
   "metadata": {
    "colab_type": "text",
    "id": "UAN86HSmZsPz"
   },
   "source": [
    "### <font color='red'> Author: Sayed Kamaledin Ghiasi-Shrirazi</font> <a href=\"http://profsite.um.ac.ir/~k.ghiasi\">(http://profsite.um.ac.ir/~k.ghiasi)</a> "
   ]
  },
  {
   "cell_type": "markdown",
   "metadata": {
    "colab_type": "text",
    "id": "kJ8OGAHEZvLB"
   },
   "source": [
    "### Multiclass Multiprototype Perceptron"
   ]
  },
  {
   "cell_type": "code",
   "execution_count": 0,
   "metadata": {
    "colab": {},
    "colab_type": "code",
    "id": "HBDGZJCRZj1A"
   },
   "outputs": [],
   "source": [
    "import numpy as np\n",
    "import matplotlib as mpl\n",
    "import matplotlib.pyplot as plt\n",
    "import scipy.io as sio\n",
    "from tqdm import tqdm"
   ]
  },
  {
   "cell_type": "code",
   "execution_count": 0,
   "metadata": {
    "colab": {},
    "colab_type": "code",
    "id": "GU4gP93Ia9It"
   },
   "outputs": [],
   "source": [
    "%matplotlib inline\n",
    "mpl.rcParams['figure.dpi']= 600"
   ]
  },
  {
   "cell_type": "code",
   "execution_count": 0,
   "metadata": {
    "colab": {},
    "colab_type": "code",
    "id": "WkLa7CYzaLFT"
   },
   "outputs": [],
   "source": [
    "from google.colab import drive\n",
    "from google.colab import files"
   ]
  },
  {
   "cell_type": "code",
   "execution_count": 22,
   "metadata": {
    "colab": {
     "base_uri": "https://localhost:8080/",
     "height": 35
    },
    "colab_type": "code",
    "id": "zjO3b6fJZwfT",
    "outputId": "98820ae0-8645-44bc-dc6a-078940c761dd"
   },
   "outputs": [
    {
     "name": "stdout",
     "output_type": "stream",
     "text": [
      "Mounted at /content/gdrive\n"
     ]
    }
   ],
   "source": [
    "drive.mount('/content/gdrive')\n",
    "path = '/content/gdrive/My Drive/datasets/mnist'"
   ]
  },
  {
   "cell_type": "code",
   "execution_count": 0,
   "metadata": {
    "colab": {},
    "colab_type": "code",
    "id": "5q-yAQyAaLw0"
   },
   "outputs": [],
   "source": [
    "MnistTrainX = sio.loadmat (path + '/MnistTrainX')['MnistTrainX'] / 255;\n",
    "MnistTrainY = sio.loadmat (path + '/MnistTrainY')['MnistTrainY'];\n",
    "MnistTestX  = sio.loadmat (path + '/MnistTestX')['MnistTestX'] / 255;\n",
    "MnistTestY  = sio.loadmat (path + '/MnistTestY')['MnistTestY'];"
   ]
  },
  {
   "cell_type": "code",
   "execution_count": 0,
   "metadata": {
    "colab": {},
    "colab_type": "code",
    "id": "c-YssmG6adg7"
   },
   "outputs": [],
   "source": [
    "XTrain = MnistTrainX\n",
    "yTrain = MnistTrainY.squeeze()"
   ]
  },
  {
   "cell_type": "code",
   "execution_count": 27,
   "metadata": {
    "colab": {
     "base_uri": "https://localhost:8080/",
     "height": 399
    },
    "colab_type": "code",
    "id": "omrrCYJhaje1",
    "outputId": "1109269e-4203-4fc8-c8c1-b014ba0ce34f"
   },
   "outputs": [
    {
     "name": "stderr",
     "output_type": "stream",
     "text": [
      "\n",
      "  0%|          | 0/20 [00:00<?, ?it/s]\u001b[A\n",
      "  5%|▌         | 1/20 [00:04<01:16,  4.01s/it]\u001b[A\n",
      " 10%|█         | 2/20 [00:07<01:10,  3.93s/it]\u001b[A\n",
      " 15%|█▌        | 3/20 [00:11<01:05,  3.84s/it]\u001b[A\n",
      " 20%|██        | 4/20 [00:14<01:00,  3.77s/it]\u001b[A\n",
      " 25%|██▌       | 5/20 [00:18<00:55,  3.73s/it]\u001b[A\n",
      " 30%|███       | 6/20 [00:22<00:51,  3.68s/it]\u001b[A\n",
      " 35%|███▌      | 7/20 [00:25<00:47,  3.66s/it]\u001b[A\n",
      " 40%|████      | 8/20 [00:29<00:43,  3.64s/it]\u001b[A\n",
      " 45%|████▌     | 9/20 [00:32<00:39,  3.62s/it]\u001b[A\n",
      " 50%|█████     | 10/20 [00:36<00:35,  3.59s/it]\u001b[A\n",
      " 55%|█████▌    | 11/20 [00:40<00:32,  3.58s/it]\u001b[A\n",
      " 60%|██████    | 12/20 [00:43<00:28,  3.57s/it]\u001b[A\n",
      " 65%|██████▌   | 13/20 [00:47<00:24,  3.56s/it]\u001b[A\n",
      " 70%|███████   | 14/20 [00:50<00:21,  3.58s/it]\u001b[A\n",
      " 75%|███████▌  | 15/20 [00:54<00:17,  3.56s/it]\u001b[A\n",
      " 80%|████████  | 16/20 [00:57<00:14,  3.56s/it]\u001b[A\n",
      " 85%|████████▌ | 17/20 [01:01<00:10,  3.57s/it]\u001b[A\n",
      " 90%|█████████ | 18/20 [01:05<00:07,  3.57s/it]\u001b[A\n",
      " 95%|█████████▌| 19/20 [01:08<00:03,  3.58s/it]\u001b[A\n",
      "100%|██████████| 20/20 [01:12<00:00,  3.60s/it]\u001b[A\n",
      "\u001b[A"
     ]
    }
   ],
   "source": [
    "K = 7\n",
    "C = 10\n",
    "maxEpoch = 20\n",
    "(N, dim) = XTrain.shape\n",
    "W = np.random.rand(K*C, dim)\n",
    "b = np.zeros ([K*C])\n",
    "\n",
    "for i in tqdm (range(maxEpoch)):\n",
    "    for j in range (N):\n",
    "        x = XTrain[j,:]\n",
    "        t = yTrain[j]\n",
    "        z = (W @ x) + b      \n",
    "        \n",
    "        r = np.argmax (z)\n",
    "        y = r // K\n",
    "        if (y != t):\n",
    "            s = t*K + np.argmax(z[t*K:(t+1)*K])            \n",
    "            W[r,:] -= x\n",
    "            W[s,:] += x\n",
    "            b[r] -= 1\n",
    "            b[s] += 1"
   ]
  },
  {
   "cell_type": "code",
   "execution_count": 28,
   "metadata": {
    "colab": {
     "base_uri": "https://localhost:8080/",
     "height": 35
    },
    "colab_type": "code",
    "id": "Tjru7dmgbB45",
    "outputId": "d4a7ebc0-21b7-4dcc-c469-4f5a92ab4a27"
   },
   "outputs": [
    {
     "name": "stdout",
     "output_type": "stream",
     "text": [
      "Accuracy on test data = 95.16\\%\n"
     ]
    }
   ],
   "source": [
    "XTest = MnistTestX\n",
    "yTest = MnistTestY\n",
    "\n",
    "score = 0.0\n",
    "for j in range (XTest.shape[0]):\n",
    "    x = XTest[j,:]\n",
    "    t = yTest[j]\n",
    "    value = W @ x + b\n",
    "    max_idx = np.argmax(value)\n",
    "    y = max_idx // K\n",
    "    if (y == t):\n",
    "        score += 1\n",
    "print ('Accuracy on test data = {0}\\%'.format (score/XTest.shape[0] * 100))"
   ]
  },
  {
   "cell_type": "code",
   "execution_count": 0,
   "metadata": {
    "colab": {},
    "colab_type": "code",
    "id": "J1-hKppJc7FC"
   },
   "outputs": [],
   "source": []
  }
 ],
 "metadata": {
  "colab": {
   "name": "Perceptron.ipynb",
   "provenance": []
  },
  "kernelspec": {
   "display_name": "Python 3",
   "language": "python",
   "name": "python3"
  },
  "language_info": {
   "codemirror_mode": {
    "name": "ipython",
    "version": 3
   },
   "file_extension": ".py",
   "mimetype": "text/x-python",
   "name": "python",
   "nbconvert_exporter": "python",
   "pygments_lexer": "ipython3",
   "version": "3.6.8"
  }
 },
 "nbformat": 4,
 "nbformat_minor": 1
}
