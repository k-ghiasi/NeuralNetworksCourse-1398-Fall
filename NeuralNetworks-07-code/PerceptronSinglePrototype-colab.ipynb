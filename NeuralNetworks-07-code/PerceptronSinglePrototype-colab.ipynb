{
 "cells": [
  {
   "cell_type": "markdown",
   "metadata": {
    "colab_type": "text",
    "id": "TKfYE8YpZoxq"
   },
   "source": [
    "## <font color='green'> <div align=\"center\">In the name of God </div></font>"
   ]
  },
  {
   "cell_type": "markdown",
   "metadata": {
    "colab_type": "text",
    "id": "UAN86HSmZsPz"
   },
   "source": [
    "### <font color='red'> Author: Sayed Kamaledin Ghiasi-Shrirazi</font> <a href=\"http://profsite.um.ac.ir/~k.ghiasi\">(http://profsite.um.ac.ir/~k.ghiasi)</a> "
   ]
  },
  {
   "cell_type": "markdown",
   "metadata": {
    "colab_type": "text",
    "id": "kJ8OGAHEZvLB"
   },
   "source": [
    "### Perceptron"
   ]
  },
  {
   "cell_type": "code",
   "execution_count": 0,
   "metadata": {
    "colab": {},
    "colab_type": "code",
    "id": "HBDGZJCRZj1A"
   },
   "outputs": [],
   "source": [
    "import numpy as np\n",
    "import matplotlib as mpl\n",
    "import matplotlib.pyplot as plt\n",
    "import scipy.io as sio\n",
    "from tqdm import tqdm"
   ]
  },
  {
   "cell_type": "code",
   "execution_count": 0,
   "metadata": {
    "colab": {},
    "colab_type": "code",
    "id": "GU4gP93Ia9It"
   },
   "outputs": [],
   "source": [
    "%matplotlib inline\n",
    "mpl.rcParams['figure.dpi']= 600"
   ]
  },
  {
   "cell_type": "code",
   "execution_count": 0,
   "metadata": {
    "colab": {},
    "colab_type": "code",
    "id": "WkLa7CYzaLFT"
   },
   "outputs": [],
   "source": [
    "from google.colab import drive\n",
    "from google.colab import files"
   ]
  },
  {
   "cell_type": "code",
   "execution_count": 4,
   "metadata": {
    "colab": {
     "base_uri": "https://localhost:8080/",
     "height": 124
    },
    "colab_type": "code",
    "id": "zjO3b6fJZwfT",
    "outputId": "b5b87e68-79df-4ffd-a6ff-6bb0deb513ac"
   },
   "outputs": [
    {
     "name": "stdout",
     "output_type": "stream",
     "text": [
      "Go to this URL in a browser: https://accounts.google.com/o/oauth2/auth?client_id=947318989803-6bn6qk8qdgf4n4g3pfee6491hc0brc4i.apps.googleusercontent.com&redirect_uri=urn%3Aietf%3Awg%3Aoauth%3A2.0%3Aoob&scope=email%20https%3A%2F%2Fwww.googleapis.com%2Fauth%2Fdocs.test%20https%3A%2F%2Fwww.googleapis.com%2Fauth%2Fdrive%20https%3A%2F%2Fwww.googleapis.com%2Fauth%2Fdrive.photos.readonly%20https%3A%2F%2Fwww.googleapis.com%2Fauth%2Fpeopleapi.readonly&response_type=code\n",
      "\n",
      "Enter your authorization code:\n",
      "··········\n",
      "Mounted at /content/gdrive\n"
     ]
    }
   ],
   "source": [
    "drive.mount('/content/gdrive')\n",
    "path = '/content/gdrive/My Drive/datasets/mnist'"
   ]
  },
  {
   "cell_type": "code",
   "execution_count": 0,
   "metadata": {
    "colab": {},
    "colab_type": "code",
    "id": "5q-yAQyAaLw0"
   },
   "outputs": [],
   "source": [
    "MnistTrainX = sio.loadmat (path + '/MnistTrainX')['MnistTrainX'] / 255;\n",
    "MnistTrainY = sio.loadmat (path + '/MnistTrainY')['MnistTrainY'];\n",
    "MnistTestX  = sio.loadmat (path + '/MnistTestX')['MnistTestX'] / 255;\n",
    "MnistTestY  = sio.loadmat (path + '/MnistTestY')['MnistTestY'];"
   ]
  },
  {
   "cell_type": "code",
   "execution_count": 0,
   "metadata": {
    "colab": {},
    "colab_type": "code",
    "id": "c-YssmG6adg7"
   },
   "outputs": [],
   "source": [
    "XTrain = MnistTrainX\n",
    "yTrain = MnistTrainY.squeeze()"
   ]
  },
  {
   "cell_type": "code",
   "execution_count": 7,
   "metadata": {
    "colab": {
     "base_uri": "https://localhost:8080/",
     "height": 35
    },
    "colab_type": "code",
    "id": "omrrCYJhaje1",
    "outputId": "d859237f-e377-4d1e-b961-628d5527f195"
   },
   "outputs": [
    {
     "name": "stderr",
     "output_type": "stream",
     "text": [
      "100%|██████████| 20/20 [00:13<00:00,  1.51it/s]\n"
     ]
    }
   ],
   "source": [
    "K = 1\n",
    "C = 10\n",
    "maxEpoch = 20\n",
    "(N, dim) = XTrain.shape\n",
    "W = np.random.rand(K*C, dim)\n",
    "b = np.zeros ([K*C])\n",
    "\n",
    "for i in tqdm (range(maxEpoch)):\n",
    "    for j in range (N):\n",
    "        x = XTrain[j,:]\n",
    "        t = yTrain[j]\n",
    "        z = (W @ x) + b      \n",
    "        \n",
    "        r = np.argmax (z)\n",
    "        y = r // K\n",
    "        if (y != t):\n",
    "            s = t*K + np.argmax(z[t*K:(t+1)*K])            \n",
    "            W[r,:] -= x\n",
    "            W[s,:] += x\n",
    "            b[r] -= 1\n",
    "            b[s] += 1"
   ]
  },
  {
   "cell_type": "code",
   "execution_count": 9,
   "metadata": {
    "colab": {
     "base_uri": "https://localhost:8080/",
     "height": 35
    },
    "colab_type": "code",
    "id": "Tjru7dmgbB45",
    "outputId": "e49ca98e-8a2e-4bb8-fb4d-e286399759a6"
   },
   "outputs": [
    {
     "name": "stdout",
     "output_type": "stream",
     "text": [
      "Accuracy on test data = 84.75\\%\n"
     ]
    }
   ],
   "source": [
    "XTest = MnistTestX\n",
    "yTest = MnistTestY\n",
    "\n",
    "score = 0.0\n",
    "for j in range (XTest.shape[0]):\n",
    "    x = XTest[j,:]\n",
    "    t = yTest[j]\n",
    "    value = W @ x + b\n",
    "    max_idx = np.argmax(value)\n",
    "    y = max_idx // K\n",
    "    if (y == t):\n",
    "        score += 1\n",
    "print ('Accuracy on test data = {0}\\%'.format (score/XTest.shape[0] * 100))"
   ]
  },
  {
   "cell_type": "code",
   "execution_count": 0,
   "metadata": {
    "colab": {},
    "colab_type": "code",
    "id": "J1-hKppJc7FC"
   },
   "outputs": [],
   "source": []
  }
 ],
 "metadata": {
  "colab": {
   "name": "PerceptronSinglePrototype.ipynb",
   "provenance": []
  },
  "kernelspec": {
   "display_name": "Python 3",
   "language": "python",
   "name": "python3"
  },
  "language_info": {
   "codemirror_mode": {
    "name": "ipython",
    "version": 3
   },
   "file_extension": ".py",
   "mimetype": "text/x-python",
   "name": "python",
   "nbconvert_exporter": "python",
   "pygments_lexer": "ipython3",
   "version": "3.6.8"
  }
 },
 "nbformat": 4,
 "nbformat_minor": 1
}
