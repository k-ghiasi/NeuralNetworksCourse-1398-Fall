{
 "cells": [
  {
   "cell_type": "markdown",
   "metadata": {},
   "source": [
    "## <font color='green'> <div align=\"center\">In the name of God </div></font>"
   ]
  },
  {
   "cell_type": "markdown",
   "metadata": {},
   "source": [
    "### <font color='red'> Author: Sayed Kamaledin Ghiasi-Shrirazi <a href=\"http://profsite.um.ac.ir/~k.ghiasi\">(http://profsite.um.ac.ir/~k.ghiasi)</a> </font>"
   ]
  },
  {
   "cell_type": "markdown",
   "metadata": {},
   "source": [
    "# GMM Exact Bayes Classifier on MNIST with reg = 0.1"
   ]
  },
  {
   "cell_type": "markdown",
   "metadata": {},
   "source": [
    "##### Importing general modules."
   ]
  },
  {
   "cell_type": "code",
   "execution_count": 1,
   "metadata": {},
   "outputs": [],
   "source": [
    "import numpy as np\n",
    "from sklearn import mixture\n",
    "import scipy.io as sio\n",
    "import matplotlib as mpl\n",
    "import matplotlib.pyplot as plt\n",
    "from scipy.special import logsumexp\n",
    "from tqdm import tqdm"
   ]
  },
  {
   "cell_type": "markdown",
   "metadata": {},
   "source": [
    "### Preparing matplotlib to genrate high-quality images for the paper"
   ]
  },
  {
   "cell_type": "code",
   "execution_count": 2,
   "metadata": {},
   "outputs": [],
   "source": [
    "%matplotlib inline\n",
    "mpl.rcParams['figure.dpi']= 600"
   ]
  },
  {
   "cell_type": "code",
   "execution_count": 3,
   "metadata": {},
   "outputs": [],
   "source": [
    "C  = 10\n",
    "K = 6\n",
    "L = C * K\n",
    "width = 28\n",
    "height = 28\n",
    "reg = 0.1"
   ]
  },
  {
   "cell_type": "markdown",
   "metadata": {},
   "source": [
    "### Load Training and Testing Data and Normalize them"
   ]
  },
  {
   "cell_type": "code",
   "execution_count": 4,
   "metadata": {},
   "outputs": [],
   "source": [
    "XTrain = sio.loadmat ('../../datasets/mnist/MnistTrainX')['MnistTrainX']\n",
    "XTrain = XTrain / 255\n",
    "yTrain = sio.loadmat ('../../datasets/mnist/MnistTrainY')['MnistTrainY']\n",
    "XTest = sio.loadmat ('../../datasets/mnist/MnistTestX')['MnistTestX']\n",
    "XTest = XTest / 255\n",
    "yTest = sio.loadmat ('../../datasets/mnist/MnistTestY')['MnistTestY']\n",
    "N, dim = XTrain.shape\n",
    "N = 60000\n",
    "XTrain = XTrain[0:N,:]\n",
    "yTrain = yTrain[0:N]"
   ]
  },
  {
   "cell_type": "markdown",
   "metadata": {},
   "source": [
    "### Loading GMM data computed on Google Colab"
   ]
  },
  {
   "cell_type": "code",
   "execution_count": 5,
   "metadata": {},
   "outputs": [],
   "source": [
    "clusters = np.zeros(N, dtype = int)\n",
    "with open('GMM_MNIST_6.txt', 'r') as f:\n",
    "    for i in range (N):\n",
    "        s = f.readline()\n",
    "        clusters[i] = int(s)"
   ]
  },
  {
   "cell_type": "markdown",
   "metadata": {},
   "source": [
    "### Compute means and covariances"
   ]
  },
  {
   "cell_type": "code",
   "execution_count": 6,
   "metadata": {},
   "outputs": [],
   "source": [
    "means = np.zeros([L, dim])\n",
    "cov = np.zeros([L, dim, dim])\n",
    "for i in range (L):\n",
    "    idx = clusters == i\n",
    "    means[i,:] = np.mean(XTrain[idx,:], axis = 0)\n",
    "    cov[i,:,:] = np.cov (XTrain[idx,:].T)    "
   ]
  },
  {
   "cell_type": "markdown",
   "metadata": {},
   "source": [
    "### Compute priors"
   ]
  },
  {
   "cell_type": "code",
   "execution_count": 7,
   "metadata": {},
   "outputs": [],
   "source": [
    "Nck = np.bincount(clusters)\n",
    "Pck = Nck / N"
   ]
  },
  {
   "cell_type": "code",
   "execution_count": 15,
   "metadata": {},
   "outputs": [
    {
     "name": "stdout",
     "output_type": "stream",
     "text": [
      "0.1.2.3.4.5.6.7.8.9.10.11.12.13.14.15.16.17.18.19.20.21.22.23.24.25.26.27.28.29.30.31.32.33.34.35.36.37.38.39.40.41.42.43.44.45.46.47.48.49.50.51.52.53.54.55.56.57.58.59.\n",
      "Training Accuracy =  0.9793333333333333\n"
     ]
    }
   ],
   "source": [
    "logProb = np.zeros ([N,L])\n",
    "for i in range (L):\n",
    "    print (i, end='.')\n",
    "    eigvals, eigvecs = np.linalg.eig(cov[i,:,:])\n",
    "    eigvals = np.real(eigvals) + reg\n",
    "    eigvecs = np.real(eigvecs)\n",
    "    sigmaHalfInv = eigvecs @ np.diag(np.sqrt(1/eigvals)) @ eigvecs.T\n",
    "    X = (XTrain - means[i,:]) @ sigmaHalfInv\n",
    "    X = X ** 2\n",
    "    d2 = np.sum(X, axis = 1)\n",
    "    logProb[:,i] = np.log(Pck[i]) - 1 / 2 * d2 -1/2 * np.sum(np.log(eigvals))\n",
    "print ('')    \n",
    "logProbClass = np.zeros([N,C])\n",
    "for n in range (N):\n",
    "    for c in range (C):\n",
    "        logProbClass[n,c] = logsumexp(logProb[n,c*K:(c+1)*K])\n",
    "prediction = np.argmax (logProbClass, axis = 1)\n",
    "score = np.sum(prediction == yTrain.squeeze())/ N\n",
    "print ('Training Accuracy = ', score)"
   ]
  },
  {
   "cell_type": "code",
   "execution_count": 16,
   "metadata": {},
   "outputs": [
    {
     "name": "stderr",
     "output_type": "stream",
     "text": [
      "100%|██████████████████████████████████████████████████████████████████████████████████| 60/60 [02:12<00:00,  2.70s/it]\n"
     ]
    },
    {
     "name": "stdout",
     "output_type": "stream",
     "text": [
      "Testing Accuracy =  0.9689\n"
     ]
    }
   ],
   "source": [
    "NTest = XTest.shape[0]\n",
    "logProb = np.zeros ([NTest,L])\n",
    "for i in tqdm(range (L)):\n",
    "    eigvals, eigvecs = np.linalg.eig(cov[i,:,:])\n",
    "    eigvals = np.real(eigvals) + reg\n",
    "    eigvecs = np.real(eigvecs)\n",
    "    sigmaHalfInv = eigvecs @ np.diag(np.sqrt(1/eigvals)) @ eigvecs.T\n",
    "    X = (XTest - means[i,:]) @ sigmaHalfInv\n",
    "    X = X ** 2\n",
    "    d2 = np.sum(X, axis = 1)\n",
    "    logProb[:,i] = np.log(Pck[i]) - 1 / 2 * d2 -1/2 * np.sum(np.log(eigvals))\n",
    "prediction = np.argmax (logProb, axis = 1) // K\n",
    "score = np.sum(prediction == yTest.squeeze())/ NTest\n",
    "print ('Testing Accuracy = ', score)"
   ]
  },
  {
   "cell_type": "markdown",
   "metadata": {},
   "source": [
    "### <font color='red'> Author: Sayed Kamaledin Ghiasi-Shrirazi <a href=\"http://profsite.um.ac.ir/~k.ghiasi\">(http://profsite.um.ac.ir/~k.ghiasi)</a> </font>"
   ]
  }
 ],
 "metadata": {
  "celltoolbar": "Raw Cell Format",
  "kernelspec": {
   "display_name": "Python 3",
   "language": "python",
   "name": "python3"
  },
  "language_info": {
   "codemirror_mode": {
    "name": "ipython",
    "version": 3
   },
   "file_extension": ".py",
   "mimetype": "text/x-python",
   "name": "python",
   "nbconvert_exporter": "python",
   "pygments_lexer": "ipython3",
   "version": "3.6.8"
  }
 },
 "nbformat": 4,
 "nbformat_minor": 2
}
