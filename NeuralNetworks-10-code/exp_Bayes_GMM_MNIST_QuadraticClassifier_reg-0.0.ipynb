{
 "cells": [
  {
   "cell_type": "markdown",
   "metadata": {},
   "source": [
    "## <font color='green'> <div align=\"center\">In the name of God </div></font>"
   ]
  },
  {
   "cell_type": "markdown",
   "metadata": {},
   "source": [
    "### <font color='red'> Author: Sayed Kamaledin Ghiasi-Shrirazi <a href=\"http://profsite.um.ac.ir/~k.ghiasi\">(http://profsite.um.ac.ir/~k.ghiasi)</a> </font>"
   ]
  },
  {
   "cell_type": "markdown",
   "metadata": {},
   "source": [
    "# GMM Quadratic Classifier on MNIST with reg = 0"
   ]
  },
  {
   "cell_type": "markdown",
   "metadata": {},
   "source": [
    "##### Importing general modules."
   ]
  },
  {
   "cell_type": "code",
   "execution_count": 66,
   "metadata": {},
   "outputs": [],
   "source": [
    "import numpy as np\n",
    "from sklearn import mixture\n",
    "import scipy.io as sio\n",
    "import matplotlib as mpl\n",
    "import matplotlib.pyplot as plt\n",
    "from tqdm import tqdm"
   ]
  },
  {
   "cell_type": "markdown",
   "metadata": {},
   "source": [
    "### Preparing matplotlib to genrate high-quality images for the paper"
   ]
  },
  {
   "cell_type": "code",
   "execution_count": 67,
   "metadata": {},
   "outputs": [],
   "source": [
    "%matplotlib inline\n",
    "mpl.rcParams['figure.dpi']= 600"
   ]
  },
  {
   "cell_type": "code",
   "execution_count": 68,
   "metadata": {},
   "outputs": [],
   "source": [
    "C  = 10\n",
    "K = 6\n",
    "L = C * K\n",
    "width = 28\n",
    "height = 28\n",
    "reg = 0"
   ]
  },
  {
   "cell_type": "markdown",
   "metadata": {},
   "source": [
    "### Load Training and Testing Data and Normalize them"
   ]
  },
  {
   "cell_type": "code",
   "execution_count": 6,
   "metadata": {},
   "outputs": [],
   "source": [
    "XTrain = sio.loadmat ('../../datasets/mnist/MnistTrainX')['MnistTrainX']\n",
    "XTrain = XTrain / 255\n",
    "yTrain = sio.loadmat ('../../datasets/mnist/MnistTrainY')['MnistTrainY']\n",
    "XTest = sio.loadmat ('../../datasets/mnist/MnistTestX')['MnistTestX']\n",
    "XTest = XTest / 255\n",
    "yTest = sio.loadmat ('../../datasets/mnist/MnistTestY')['MnistTestY']\n",
    "N, dim = XTrain.shape"
   ]
  },
  {
   "cell_type": "markdown",
   "metadata": {},
   "source": [
    "### Loading GMM data computed on Google Colab"
   ]
  },
  {
   "cell_type": "code",
   "execution_count": 7,
   "metadata": {},
   "outputs": [],
   "source": [
    "clusters = np.zeros(N, dtype = int)\n",
    "with open('GMM_MNIST_6.txt', 'r') as f:\n",
    "    for i in range (N):\n",
    "        s = f.readline()\n",
    "        clusters[i] = int(s)"
   ]
  },
  {
   "cell_type": "markdown",
   "metadata": {},
   "source": [
    "### Compute means and covariances"
   ]
  },
  {
   "cell_type": "code",
   "execution_count": 9,
   "metadata": {},
   "outputs": [],
   "source": [
    "means = np.zeros([L, dim])\n",
    "cov = np.zeros([L, dim, dim])\n",
    "for i in range (L):\n",
    "    idx = clusters == i\n",
    "    means[i,:] = np.mean(XTrain[idx,:], axis = 0)\n",
    "    cov[i,:,:] = np.cov (XTrain[idx,:].T)    "
   ]
  },
  {
   "cell_type": "markdown",
   "metadata": {},
   "source": [
    "### Compute priors"
   ]
  },
  {
   "cell_type": "code",
   "execution_count": 49,
   "metadata": {},
   "outputs": [],
   "source": [
    "Nck = np.bincount(clusters)\n",
    "Pck = Nck / N"
   ]
  },
  {
   "cell_type": "code",
   "execution_count": 62,
   "metadata": {},
   "outputs": [
    {
     "name": "stderr",
     "output_type": "stream",
     "text": [
      "  0%|                                                                                           | 0/60 [00:00<?, ?it/s]C:\\ProgramData\\Anaconda3\\lib\\site-packages\\ipykernel_launcher.py:11: ComplexWarning: Casting complex values to real discards the imaginary part\n",
      "  # This is added back by InteractiveShellApp.init_path()\n",
      "100%|██████████████████████████████████████████████████████████████████████████████████| 60/60 [11:30<00:00, 12.85s/it]\n"
     ]
    },
    {
     "name": "stdout",
     "output_type": "stream",
     "text": [
      "Training Accuracy =  0.9662\n"
     ]
    }
   ],
   "source": [
    "logProb = np.zeros ([N,L])\n",
    "for i in tqdm(range (L)):\n",
    "    eigvals, eigvecs = np.linalg.eig(cov[i,:,:])\n",
    "    idx = eigvals > 0.0001\n",
    "    eigvals = eigvals[idx] + reg\n",
    "    eigvecs = eigvecs[:,idx]\n",
    "    sigmaHalfInv = eigvecs @ np.diag(np.sqrt(1/eigvals)) @ eigvecs.T\n",
    "    X = (XTrain - means[i,:]) @ sigmaHalfInv\n",
    "    X = X ** 2\n",
    "    d2 = np.sum(X, axis = 1)\n",
    "    logProb[:,i] = np.log(Pck[i]) - 1 / 2 * d2\n",
    "prediction = np.argmax (logProb, axis = 1) // K\n",
    "score = np.sum(prediction == yTrain.squeeze())/ N\n",
    "print ('Training Accuracy = ', score)"
   ]
  },
  {
   "cell_type": "code",
   "execution_count": 63,
   "metadata": {},
   "outputs": [
    {
     "name": "stderr",
     "output_type": "stream",
     "text": [
      "  0%|                                                                                           | 0/60 [00:00<?, ?it/s]C:\\ProgramData\\Anaconda3\\lib\\site-packages\\ipykernel_launcher.py:12: ComplexWarning: Casting complex values to real discards the imaginary part\n",
      "  if sys.path[0] == '':\n",
      "100%|██████████████████████████████████████████████████████████████████████████████████| 60/60 [02:41<00:00,  2.35s/it]\n",
      "C:\\ProgramData\\Anaconda3\\lib\\site-packages\\ipykernel_launcher.py:14: DeprecationWarning: elementwise comparison failed; this will raise an error in the future.\n",
      "  \n"
     ]
    },
    {
     "name": "stdout",
     "output_type": "stream",
     "text": [
      "Testing Accuracy =  0.0\n"
     ]
    }
   ],
   "source": [
    "NTest = XTest.shape[0]\n",
    "logProb = np.zeros ([NTest,L])\n",
    "for i in tqdm(range (L)):\n",
    "    eigvals, eigvecs = np.linalg.eig(cov[i,:,:])\n",
    "    idx = eigvals > 0.0001\n",
    "    eigvals = eigvals[idx] + reg\n",
    "    eigvecs = eigvecs[:,idx]\n",
    "    sigmaHalfInv = eigvecs @ np.diag(np.sqrt(1/eigvals)) @ eigvecs.T\n",
    "    X = (XTest - means[i,:]) @ sigmaHalfInv\n",
    "    X = X ** 2\n",
    "    d2 = np.sum(X, axis = 1)\n",
    "    logProb[:,i] = np.log(Pck[i]) - 1 / 2 * d2\n",
    "prediction = np.argmax (logProb, axis = 1) // K\n",
    "score = np.sum(prediction == yTest.squeeze())/ NTest\n",
    "print ('Testing Accuracy = ', score)"
   ]
  },
  {
   "cell_type": "code",
   "execution_count": 64,
   "metadata": {},
   "outputs": [
    {
     "name": "stdout",
     "output_type": "stream",
     "text": [
      "Testing Accuracy =  0.8805\n"
     ]
    }
   ],
   "source": [
    "score = np.sum(prediction == yTest.squeeze())/ NTest\n",
    "print ('Testing Accuracy = ', score)"
   ]
  },
  {
   "cell_type": "markdown",
   "metadata": {},
   "source": [
    "### <font color='red'> Author: Sayed Kamaledin Ghiasi-Shrirazi <a href=\"http://profsite.um.ac.ir/~k.ghiasi\">(http://profsite.um.ac.ir/~k.ghiasi)</a> </font>"
   ]
  },
  {
   "cell_type": "code",
   "execution_count": null,
   "metadata": {},
   "outputs": [],
   "source": []
  }
 ],
 "metadata": {
  "celltoolbar": "Raw Cell Format",
  "kernelspec": {
   "display_name": "Python 3",
   "language": "python",
   "name": "python3"
  },
  "language_info": {
   "codemirror_mode": {
    "name": "ipython",
    "version": 3
   },
   "file_extension": ".py",
   "mimetype": "text/x-python",
   "name": "python",
   "nbconvert_exporter": "python",
   "pygments_lexer": "ipython3",
   "version": "3.6.8"
  }
 },
 "nbformat": 4,
 "nbformat_minor": 2
}
