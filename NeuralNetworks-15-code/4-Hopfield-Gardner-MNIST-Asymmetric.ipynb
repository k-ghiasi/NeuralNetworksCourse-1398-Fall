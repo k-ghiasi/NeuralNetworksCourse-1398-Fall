{
 "cells": [
  {
   "cell_type": "markdown",
   "metadata": {},
   "source": [
    "## <font color='green'> <div align=\"center\">In the name of God </div></font>"
   ]
  },
  {
   "cell_type": "markdown",
   "metadata": {},
   "source": [
    "### <font color='red'> Author: Sayed Kamaledin Ghiasi-Shrirazi</font> <a href=\"http://profsite.um.ac.ir/~k.ghiasi\">(http://profsite.um.ac.ir/~k.ghiasi)</a> "
   ]
  },
  {
   "cell_type": "markdown",
   "metadata": {},
   "source": [
    "### Asymmetric Hopfield Network with Gardner algorithm (which is Perceptron) on MNIST"
   ]
  },
  {
   "cell_type": "code",
   "execution_count": 1,
   "metadata": {},
   "outputs": [],
   "source": [
    "import numpy as np\n",
    "import matplotlib as mpl\n",
    "import matplotlib.pyplot as plt\n",
    "import scipy.io as sio\n",
    "from tqdm import tqdm\n",
    "import matplotlib.animation as animation\n",
    "import sklearn.cluster\n",
    "import pickle\n",
    "import os.path"
   ]
  },
  {
   "cell_type": "code",
   "execution_count": 2,
   "metadata": {},
   "outputs": [],
   "source": [
    "%matplotlib inline\n",
    "mpl.rcParams['figure.dpi']= 600"
   ]
  },
  {
   "cell_type": "code",
   "execution_count": 3,
   "metadata": {},
   "outputs": [],
   "source": [
    "MnistTrainX = sio.loadmat ('../../datasets/mnist/MnistTrainX')['MnistTrainX'] / 255;\n",
    "MnistTrainY = sio.loadmat ('../../datasets/mnist/MnistTrainY')['MnistTrainY'];\n",
    "MnistTestX  = sio.loadmat ('../../datasets/mnist/MnistTestX')['MnistTestX'] / 255;\n",
    "MnistTestY  = sio.loadmat ('../../datasets/mnist/MnistTestY')['MnistTestY'];\n",
    "\n",
    "N = 60000\n",
    "MnistTrainX = MnistTrainX[:N,:]\n",
    "MnistTrainY = MnistTrainY[:N,:]\n",
    "XTrain = MnistTrainX\n",
    "yTrain = MnistTrainY.squeeze()\n",
    "XTest = MnistTestX\n",
    "yTest = MnistTestY.squeeze()\n",
    "N, dim = XTrain.shape"
   ]
  },
  {
   "cell_type": "code",
   "execution_count": 4,
   "metadata": {},
   "outputs": [],
   "source": [
    "XTrain = np.sign(MnistTrainX - 0.5)\n",
    "XTest = np.sign(MnistTestX - 0.5)"
   ]
  },
  {
   "cell_type": "code",
   "execution_count": null,
   "metadata": {},
   "outputs": [],
   "source": [
    "maxEpoch = 1\n",
    "(N, dim) = XTrain.shape\n",
    "W = np.random.rand (dim, dim)\n",
    "b = np.zeros (dim)\n",
    "for epoch in range (maxEpoch):\n",
    "    for n in range (N):\n",
    "        x = XTrain[n,:]\n",
    "        z = W @ x + b\n",
    "        y = np.sign (z)\n",
    "        t = x\n",
    "        deltaW = np.outer ((t - y) / 2 , x.T)\n",
    "        W = W + deltaW\n",
    "        b = b + (t - y) / 2\n",
    "for d in range (dim):\n",
    "    W[d,d] = 0"
   ]
  },
  {
   "cell_type": "code",
   "execution_count": null,
   "metadata": {},
   "outputs": [],
   "source": [
    "maxHopfieldIter = 5\n",
    "NShow = 30\n",
    "img = np.zeros ([29 * NShow,29 * maxHopfieldIter])\n",
    "for n in range (NShow):\n",
    "    x = XTrain[n,:]\n",
    "    for i in range (maxHopfieldIter):\n",
    "        img[n*29:n*29+28,i*29:i*29+28] = np.reshape(x,[28,28])\n",
    "        z = W @ x + b\n",
    "        y = np.sign(z)\n",
    "        x = y\n",
    "plt.axis('off')        \n",
    "plt.imshow (img,cmap='gray')\n",
    "plt.imsave ('hopfield_gardner_mnist.png', img,cmap='gray')\n",
    "plt.show()"
   ]
  },
  {
   "cell_type": "code",
   "execution_count": null,
   "metadata": {},
   "outputs": [],
   "source": []
  }
 ],
 "metadata": {
  "kernelspec": {
   "display_name": "Python 3",
   "language": "python",
   "name": "python3"
  },
  "language_info": {
   "codemirror_mode": {
    "name": "ipython",
    "version": 3
   },
   "file_extension": ".py",
   "mimetype": "text/x-python",
   "name": "python",
   "nbconvert_exporter": "python",
   "pygments_lexer": "ipython3",
   "version": "3.6.8"
  }
 },
 "nbformat": 4,
 "nbformat_minor": 2
}
