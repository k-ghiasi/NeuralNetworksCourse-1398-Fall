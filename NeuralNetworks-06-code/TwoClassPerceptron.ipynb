{
 "cells": [
  {
   "cell_type": "markdown",
   "metadata": {},
   "source": [
    "## <font color='green'> <div align=\"center\">In the name of God </div></font>"
   ]
  },
  {
   "cell_type": "markdown",
   "metadata": {},
   "source": [
    "### <font color='red'> Author: Sayed Kamaledin Ghiasi-Shrirazi</font> <a href=\"http://profsite.um.ac.ir/~k.ghiasi\">(http://profsite.um.ac.ir/~k.ghiasi)</a> "
   ]
  },
  {
   "cell_type": "markdown",
   "metadata": {},
   "source": [
    "### Two Class Perceptron"
   ]
  },
  {
   "cell_type": "code",
   "execution_count": null,
   "metadata": {},
   "outputs": [],
   "source": [
    "import numpy as np\n",
    "import matplotlib as mpl\n",
    "import matplotlib.pyplot as plt\n",
    "import matplotlib.animation as animation\n",
    "from tqdm import tqdm"
   ]
  },
  {
   "cell_type": "code",
   "execution_count": null,
   "metadata": {},
   "outputs": [],
   "source": [
    "%matplotlib inline\n",
    "mpl.rcParams['figure.dpi']= 150"
   ]
  },
  {
   "cell_type": "code",
   "execution_count": null,
   "metadata": {},
   "outputs": [],
   "source": [
    "N = 10;\n",
    "X1=np.random.rand(N,3)   # class '+1'\n",
    "X2=np.random.rand(N,3); # class '-1'\n",
    "X1[:,2] = 1 # bias\n",
    "X2[:,2] = 1 # bias\n",
    "X = np.vstack ([X1,X2])\n",
    "\n",
    "Y=np.ones (2 * N)\n",
    "Y[0:N] *= -1\n",
    "\n",
    "XTrain = X\n",
    "yTrain = Y"
   ]
  },
  {
   "cell_type": "code",
   "execution_count": null,
   "metadata": {},
   "outputs": [],
   "source": [
    "w= np.array([100, 0, 0], dtype = 'float')\n",
    "b = 0"
   ]
  },
  {
   "cell_type": "code",
   "execution_count": null,
   "metadata": {},
   "outputs": [],
   "source": [
    "minX = min(X[:,0])\n",
    "maxX = max(X[:,0])\n",
    "minY = min(X[:,1])\n",
    "maxY = max(X[:,1])"
   ]
  },
  {
   "cell_type": "code",
   "execution_count": null,
   "metadata": {},
   "outputs": [],
   "source": [
    "maxEpoch = 40\n",
    "(N, dim) = XTrain.shape\n",
    "\n",
    "fig = plt.figure()\n",
    "metadata = dict(title='TwoClassPerceptron', artist='Matplotlib',\n",
    "                comment='Movie support!')\n",
    "pillowWriter = animation.writers['pillow']\n",
    "moviewriter = pillowWriter(fps=2, metadata=metadata)\n",
    "moviewriter.setup(fig=fig, outfile='TwoClassPerceptron.gif', dpi=150)\n",
    "\n",
    "\n",
    "for i in tqdm(range(maxEpoch)):\n",
    "    randperm = np.random.permutation(N)\n",
    "    for j in randperm:\n",
    "        x = XTrain[j, :]\n",
    "        t = yTrain[j]\n",
    "        z = (w @ x)\n",
    "\n",
    "        y = 1 if z >= 0 else -1\n",
    "        if (y != t or (i==maxEpoch-1 and j == randperm[-1])):\n",
    "            plt.cla()\n",
    "            xcntr = list(np.arange (0, 1, 0.01) )\n",
    "            ycntr = list(np.arange (0, 2, 0.01))\n",
    "            X, Y = np.meshgrid(xcntr, ycntr)\n",
    "            Z     = w[0] * X + w[1] * Y + w[2]\n",
    "            cs = plt.contourf (X, Y, Z, levels = 0, colors = ['royalblue', 'salmon'])\n",
    "\n",
    "            plt.plot(X1[:, 0], X1[:, 1], 'b.')\n",
    "            plt.plot(X2[:, 0], X2[:, 1], 'r.')\n",
    "\n",
    "            p1 = np.array([0, (-w[0] * 0 - w[2]) / w[1]])\n",
    "            p2 = np.array([1, (-w[0] * 1 - w[2]) / w[1]])\n",
    "            plt.plot([p1[0], p2[0]], [p1[1], p2[1]], 'k', linewidth=3)\n",
    "\n",
    "            if t == -1:\n",
    "                drwstr = 'b*'\n",
    "            else:\n",
    "                drwstr = 'r*'\n",
    "\n",
    "            plt.plot(x[0], x[1], drwstr, markersize=20)\n",
    "\n",
    "            plt.axis([0, 1, 0, 2])\n",
    "\n",
    "            plt.show(block = False)\n",
    "            moviewriter.grab_frame()\n",
    "\n",
    "        if (y != t):\n",
    "            w += t * x"
   ]
  },
  {
   "cell_type": "code",
   "execution_count": null,
   "metadata": {},
   "outputs": [],
   "source": []
  }
 ],
 "metadata": {
  "kernelspec": {
   "display_name": "Python 3",
   "language": "python",
   "name": "python3"
  },
  "language_info": {
   "codemirror_mode": {
    "name": "ipython",
    "version": 3
   },
   "file_extension": ".py",
   "mimetype": "text/x-python",
   "name": "python",
   "nbconvert_exporter": "python",
   "pygments_lexer": "ipython3",
   "version": "3.6.8"
  }
 },
 "nbformat": 4,
 "nbformat_minor": 2
}
